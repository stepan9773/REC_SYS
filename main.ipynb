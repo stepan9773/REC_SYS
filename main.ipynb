{
 "cells": [
  {
   "cell_type": "code",
   "execution_count": 1,
   "metadata": {
    "collapsed": true,
    "ExecuteTime": {
     "end_time": "2023-09-08T10:10:39.305877Z",
     "start_time": "2023-09-08T10:10:39.284721Z"
    }
   },
   "outputs": [],
   "source": [
    "import pandas as pd"
   ]
  },
  {
   "cell_type": "code",
   "execution_count": 2,
   "outputs": [],
   "source": [
    "df_all_act = pd.read_csv('dataset/PAYER_ACT_LAST_WEEK.csv')\n"
   ],
   "metadata": {
    "collapsed": false,
    "ExecuteTime": {
     "end_time": "2023-09-06T12:59:11.398168Z",
     "start_time": "2023-09-06T12:59:04.880364Z"
    }
   }
  },
  {
   "cell_type": "code",
   "execution_count": 3,
   "outputs": [
    {
     "data": {
      "text/plain": "         Unnamed: 0        date                   ts  \\\n0                 0  2023-08-15  2023-08-15 09:27:52   \n1                 1  2023-08-15  2023-08-15 09:27:53   \n2                 2  2023-08-15  2023-08-15 09:27:53   \n3                 3  2023-08-15  2023-08-15 09:27:55   \n4                 4  2023-08-15  2023-08-15 09:27:58   \n...             ...         ...                  ...   \n2416849          57  2023-08-14  2023-08-14 03:16:06   \n2416850          58  2023-08-14  2023-08-14 03:16:26   \n2416851          59  2023-08-14  2023-08-14 03:16:56   \n2416852          60  2023-08-14  2023-08-14 03:17:11   \n2416853          61  2023-08-14  2023-08-14 03:17:11   \n\n                           userId                              deviceId  role  \\\n0        64d48a24a90d02de6b20cccf  08EBEC8A-AE36-4DBF-A3A3-AB4DECEE4D9C  user   \n1        64d48a24a90d02de6b20cccf  08EBEC8A-AE36-4DBF-A3A3-AB4DECEE4D9C  user   \n2        64d48a24a90d02de6b20cccf  08EBEC8A-AE36-4DBF-A3A3-AB4DECEE4D9C  user   \n3        64d48a24a90d02de6b20cccf  08EBEC8A-AE36-4DBF-A3A3-AB4DECEE4D9C  user   \n4        64d48a24a90d02de6b20cccf  08EBEC8A-AE36-4DBF-A3A3-AB4DECEE4D9C  user   \n...                           ...                                   ...   ...   \n2416849  64d998d0467cf14c2e7eaabc                                   NaN   NaN   \n2416850  64d998d0467cf14c2e7eaabc                                   NaN   NaN   \n2416851  64d998d0467cf14c2e7eaabc                                   NaN   NaN   \n2416852  64d998d0467cf14c2e7eaabc                                   NaN   NaN   \n2416853  64d998d0467cf14c2e7eaabc                                   NaN   NaN   \n\n         brandId                    event  category                receiverId  \\\n0              8         show_found_match  matching  64c1501bd08cc27ee8e961c5   \n1              8          show_left_match  matching  64c1501bd08cc27ee8e961c5   \n2              8          show_left_match  matching  64c1501bd08cc27ee8e961c5   \n3              8         show_found_match  matching  637490727483c8c7c1887cb5   \n4              8          show_left_match  matching  637490727483c8c7c1887cb5   \n...          ...                      ...       ...                       ...   \n2416849        1  click_foundMatch_action  matching  5e331e6f4d6940b5d9b74a78   \n2416850        1           click_matchEnd  matching  5e331e6f4d6940b5d9b74a78   \n2416851        1            pageview_chat  messages  5e2ecb76067dc96d07b65345   \n2416852        1        click_sendMessage  messages  5e2ecb76067dc96d07b65345   \n2416853        1     pageview_userProfile  messages  5e2ecb76067dc96d07b65345   \n\n         ...  type  action productId coinBalance referrer anchor page  \\\n0        ...   NaN     NaN       NaN         NaN      NaN    NaN  NaN   \n1        ...   NaN     NaN       NaN         NaN      NaN    NaN  NaN   \n2        ...   NaN     NaN       NaN         NaN      NaN    NaN  NaN   \n3        ...   NaN     NaN       NaN         NaN      NaN    NaN  NaN   \n4        ...   NaN     NaN       NaN         NaN      NaN    NaN  NaN   \n...      ...   ...     ...       ...         ...      ...    ...  ...   \n2416849  ...   NaN  accept       NaN         NaN      NaN    NaN  NaN   \n2416850  ...   NaN     NaN       NaN         NaN      NaN    NaN  NaN   \n2416851  ...   NaN     NaN       NaN         NaN      NaN    NaN  NaN   \n2416852  ...  text     NaN       NaN         NaN      NaN    NaN  NaN   \n2416853  ...   NaN     NaN       NaN         NaN      NaN    NaN  NaN   \n\n        filterStatus  gender  setFree  \n0                NaN     NaN      NaN  \n1                NaN     NaN      NaN  \n2                NaN     NaN      NaN  \n3                NaN     NaN      NaN  \n4                NaN     NaN      NaN  \n...              ...     ...      ...  \n2416849          NaN     NaN      NaN  \n2416850          NaN     NaN      NaN  \n2416851          NaN     NaN      NaN  \n2416852          NaN     NaN      NaN  \n2416853          NaN     NaN      NaN  \n\n[2416854 rows x 26 columns]",
      "text/html": "<div>\n<style scoped>\n    .dataframe tbody tr th:only-of-type {\n        vertical-align: middle;\n    }\n\n    .dataframe tbody tr th {\n        vertical-align: top;\n    }\n\n    .dataframe thead th {\n        text-align: right;\n    }\n</style>\n<table border=\"1\" class=\"dataframe\">\n  <thead>\n    <tr style=\"text-align: right;\">\n      <th></th>\n      <th>Unnamed: 0</th>\n      <th>date</th>\n      <th>ts</th>\n      <th>userId</th>\n      <th>deviceId</th>\n      <th>role</th>\n      <th>brandId</th>\n      <th>event</th>\n      <th>category</th>\n      <th>receiverId</th>\n      <th>...</th>\n      <th>type</th>\n      <th>action</th>\n      <th>productId</th>\n      <th>coinBalance</th>\n      <th>referrer</th>\n      <th>anchor</th>\n      <th>page</th>\n      <th>filterStatus</th>\n      <th>gender</th>\n      <th>setFree</th>\n    </tr>\n  </thead>\n  <tbody>\n    <tr>\n      <th>0</th>\n      <td>0</td>\n      <td>2023-08-15</td>\n      <td>2023-08-15 09:27:52</td>\n      <td>64d48a24a90d02de6b20cccf</td>\n      <td>08EBEC8A-AE36-4DBF-A3A3-AB4DECEE4D9C</td>\n      <td>user</td>\n      <td>8</td>\n      <td>show_found_match</td>\n      <td>matching</td>\n      <td>64c1501bd08cc27ee8e961c5</td>\n      <td>...</td>\n      <td>NaN</td>\n      <td>NaN</td>\n      <td>NaN</td>\n      <td>NaN</td>\n      <td>NaN</td>\n      <td>NaN</td>\n      <td>NaN</td>\n      <td>NaN</td>\n      <td>NaN</td>\n      <td>NaN</td>\n    </tr>\n    <tr>\n      <th>1</th>\n      <td>1</td>\n      <td>2023-08-15</td>\n      <td>2023-08-15 09:27:53</td>\n      <td>64d48a24a90d02de6b20cccf</td>\n      <td>08EBEC8A-AE36-4DBF-A3A3-AB4DECEE4D9C</td>\n      <td>user</td>\n      <td>8</td>\n      <td>show_left_match</td>\n      <td>matching</td>\n      <td>64c1501bd08cc27ee8e961c5</td>\n      <td>...</td>\n      <td>NaN</td>\n      <td>NaN</td>\n      <td>NaN</td>\n      <td>NaN</td>\n      <td>NaN</td>\n      <td>NaN</td>\n      <td>NaN</td>\n      <td>NaN</td>\n      <td>NaN</td>\n      <td>NaN</td>\n    </tr>\n    <tr>\n      <th>2</th>\n      <td>2</td>\n      <td>2023-08-15</td>\n      <td>2023-08-15 09:27:53</td>\n      <td>64d48a24a90d02de6b20cccf</td>\n      <td>08EBEC8A-AE36-4DBF-A3A3-AB4DECEE4D9C</td>\n      <td>user</td>\n      <td>8</td>\n      <td>show_left_match</td>\n      <td>matching</td>\n      <td>64c1501bd08cc27ee8e961c5</td>\n      <td>...</td>\n      <td>NaN</td>\n      <td>NaN</td>\n      <td>NaN</td>\n      <td>NaN</td>\n      <td>NaN</td>\n      <td>NaN</td>\n      <td>NaN</td>\n      <td>NaN</td>\n      <td>NaN</td>\n      <td>NaN</td>\n    </tr>\n    <tr>\n      <th>3</th>\n      <td>3</td>\n      <td>2023-08-15</td>\n      <td>2023-08-15 09:27:55</td>\n      <td>64d48a24a90d02de6b20cccf</td>\n      <td>08EBEC8A-AE36-4DBF-A3A3-AB4DECEE4D9C</td>\n      <td>user</td>\n      <td>8</td>\n      <td>show_found_match</td>\n      <td>matching</td>\n      <td>637490727483c8c7c1887cb5</td>\n      <td>...</td>\n      <td>NaN</td>\n      <td>NaN</td>\n      <td>NaN</td>\n      <td>NaN</td>\n      <td>NaN</td>\n      <td>NaN</td>\n      <td>NaN</td>\n      <td>NaN</td>\n      <td>NaN</td>\n      <td>NaN</td>\n    </tr>\n    <tr>\n      <th>4</th>\n      <td>4</td>\n      <td>2023-08-15</td>\n      <td>2023-08-15 09:27:58</td>\n      <td>64d48a24a90d02de6b20cccf</td>\n      <td>08EBEC8A-AE36-4DBF-A3A3-AB4DECEE4D9C</td>\n      <td>user</td>\n      <td>8</td>\n      <td>show_left_match</td>\n      <td>matching</td>\n      <td>637490727483c8c7c1887cb5</td>\n      <td>...</td>\n      <td>NaN</td>\n      <td>NaN</td>\n      <td>NaN</td>\n      <td>NaN</td>\n      <td>NaN</td>\n      <td>NaN</td>\n      <td>NaN</td>\n      <td>NaN</td>\n      <td>NaN</td>\n      <td>NaN</td>\n    </tr>\n    <tr>\n      <th>...</th>\n      <td>...</td>\n      <td>...</td>\n      <td>...</td>\n      <td>...</td>\n      <td>...</td>\n      <td>...</td>\n      <td>...</td>\n      <td>...</td>\n      <td>...</td>\n      <td>...</td>\n      <td>...</td>\n      <td>...</td>\n      <td>...</td>\n      <td>...</td>\n      <td>...</td>\n      <td>...</td>\n      <td>...</td>\n      <td>...</td>\n      <td>...</td>\n      <td>...</td>\n      <td>...</td>\n    </tr>\n    <tr>\n      <th>2416849</th>\n      <td>57</td>\n      <td>2023-08-14</td>\n      <td>2023-08-14 03:16:06</td>\n      <td>64d998d0467cf14c2e7eaabc</td>\n      <td>NaN</td>\n      <td>NaN</td>\n      <td>1</td>\n      <td>click_foundMatch_action</td>\n      <td>matching</td>\n      <td>5e331e6f4d6940b5d9b74a78</td>\n      <td>...</td>\n      <td>NaN</td>\n      <td>accept</td>\n      <td>NaN</td>\n      <td>NaN</td>\n      <td>NaN</td>\n      <td>NaN</td>\n      <td>NaN</td>\n      <td>NaN</td>\n      <td>NaN</td>\n      <td>NaN</td>\n    </tr>\n    <tr>\n      <th>2416850</th>\n      <td>58</td>\n      <td>2023-08-14</td>\n      <td>2023-08-14 03:16:26</td>\n      <td>64d998d0467cf14c2e7eaabc</td>\n      <td>NaN</td>\n      <td>NaN</td>\n      <td>1</td>\n      <td>click_matchEnd</td>\n      <td>matching</td>\n      <td>5e331e6f4d6940b5d9b74a78</td>\n      <td>...</td>\n      <td>NaN</td>\n      <td>NaN</td>\n      <td>NaN</td>\n      <td>NaN</td>\n      <td>NaN</td>\n      <td>NaN</td>\n      <td>NaN</td>\n      <td>NaN</td>\n      <td>NaN</td>\n      <td>NaN</td>\n    </tr>\n    <tr>\n      <th>2416851</th>\n      <td>59</td>\n      <td>2023-08-14</td>\n      <td>2023-08-14 03:16:56</td>\n      <td>64d998d0467cf14c2e7eaabc</td>\n      <td>NaN</td>\n      <td>NaN</td>\n      <td>1</td>\n      <td>pageview_chat</td>\n      <td>messages</td>\n      <td>5e2ecb76067dc96d07b65345</td>\n      <td>...</td>\n      <td>NaN</td>\n      <td>NaN</td>\n      <td>NaN</td>\n      <td>NaN</td>\n      <td>NaN</td>\n      <td>NaN</td>\n      <td>NaN</td>\n      <td>NaN</td>\n      <td>NaN</td>\n      <td>NaN</td>\n    </tr>\n    <tr>\n      <th>2416852</th>\n      <td>60</td>\n      <td>2023-08-14</td>\n      <td>2023-08-14 03:17:11</td>\n      <td>64d998d0467cf14c2e7eaabc</td>\n      <td>NaN</td>\n      <td>NaN</td>\n      <td>1</td>\n      <td>click_sendMessage</td>\n      <td>messages</td>\n      <td>5e2ecb76067dc96d07b65345</td>\n      <td>...</td>\n      <td>text</td>\n      <td>NaN</td>\n      <td>NaN</td>\n      <td>NaN</td>\n      <td>NaN</td>\n      <td>NaN</td>\n      <td>NaN</td>\n      <td>NaN</td>\n      <td>NaN</td>\n      <td>NaN</td>\n    </tr>\n    <tr>\n      <th>2416853</th>\n      <td>61</td>\n      <td>2023-08-14</td>\n      <td>2023-08-14 03:17:11</td>\n      <td>64d998d0467cf14c2e7eaabc</td>\n      <td>NaN</td>\n      <td>NaN</td>\n      <td>1</td>\n      <td>pageview_userProfile</td>\n      <td>messages</td>\n      <td>5e2ecb76067dc96d07b65345</td>\n      <td>...</td>\n      <td>NaN</td>\n      <td>NaN</td>\n      <td>NaN</td>\n      <td>NaN</td>\n      <td>NaN</td>\n      <td>NaN</td>\n      <td>NaN</td>\n      <td>NaN</td>\n      <td>NaN</td>\n      <td>NaN</td>\n    </tr>\n  </tbody>\n</table>\n<p>2416854 rows × 26 columns</p>\n</div>"
     },
     "execution_count": 3,
     "metadata": {},
     "output_type": "execute_result"
    }
   ],
   "source": [
    "df_all_act"
   ],
   "metadata": {
    "collapsed": false,
    "ExecuteTime": {
     "end_time": "2023-09-06T12:59:12.463343Z",
     "start_time": "2023-09-06T12:59:11.404940Z"
    }
   }
  },
  {
   "cell_type": "code",
   "execution_count": 4,
   "outputs": [],
   "source": [
    "df_all_act.drop(columns='Unnamed: 0')\n",
    "df = df_all_act[df_all_act['countryCode']=='US']"
   ],
   "metadata": {
    "collapsed": false,
    "ExecuteTime": {
     "end_time": "2023-09-06T12:59:13.031997Z",
     "start_time": "2023-09-06T12:59:12.464326Z"
    }
   }
  },
  {
   "cell_type": "code",
   "execution_count": 5,
   "outputs": [],
   "source": [
    "\n",
    "map_df = pd.read_csv('dataset/user_map_id.csv')\n",
    "map_r_df = pd.read_csv('dataset/receiverId_map.csv')"
   ],
   "metadata": {
    "collapsed": false,
    "ExecuteTime": {
     "end_time": "2023-09-06T12:59:15.867855Z",
     "start_time": "2023-09-06T12:59:13.033694Z"
    }
   }
  },
  {
   "cell_type": "code",
   "execution_count": 6,
   "outputs": [],
   "source": [
    "data = pd.read_csv('dataset/userActivityLastWeek_full_2_class.csv')\n",
    "userId_model_know = data.userId.unique()\n",
    "receiverId_model_know = data.receiverId.unique()"
   ],
   "metadata": {
    "collapsed": false,
    "ExecuteTime": {
     "end_time": "2023-09-06T12:59:26.905016Z",
     "start_time": "2023-09-06T12:59:15.868765Z"
    }
   }
  },
  {
   "cell_type": "code",
   "execution_count": 7,
   "outputs": [],
   "source": [
    "df_all_act['ts'] = pd.to_datetime(df_all_act['ts'])\n",
    "# Set the time column as the DataFrame index\n",
    "df_all_act.set_index('ts', inplace=True)\n",
    "split_dataframes = []\n",
    "\n",
    "for group in df_all_act.resample('30T'):\n",
    "    split_dataframes.append(group[1])  # g\n"
   ],
   "metadata": {
    "collapsed": false,
    "ExecuteTime": {
     "end_time": "2023-09-06T12:59:28.905626Z",
     "start_time": "2023-09-06T12:59:27.129818Z"
    }
   }
  },
  {
   "cell_type": "code",
   "execution_count": 8,
   "outputs": [],
   "source": [
    "#import time\n",
    "#\n",
    "#for trafic in split_dataframes:\n",
    "#\n",
    "#    user_list  = trafic.userId.unique()\n",
    "#    streamer_list  = trafic.receiverId.unique()\n",
    "#    print('ALL',len(user_list),len(streamer_list))\n",
    "#    not_exist_u = [i for i in user_list if i not in userId_model_know]\n",
    "#    not_exist_s = [i for i in streamer_list if i not in receiverId_model_know]\n",
    "#    print('do not know',\n",
    "#          len(not_exist_u),\n",
    "#          len(not_exist_s))\n",
    "#\n",
    "#    time.sleep(1)"
   ],
   "metadata": {
    "collapsed": false,
    "ExecuteTime": {
     "end_time": "2023-09-06T12:59:28.908188Z",
     "start_time": "2023-09-06T12:59:28.906343Z"
    }
   }
  },
  {
   "cell_type": "code",
   "execution_count": 9,
   "outputs": [
    {
     "data": {
      "text/plain": "       Unnamed: 0  encoded_userId  encoded_receiverId  r    rating\n0               0         38753.0             69471.0  2  0.008969\n1               1         38753.0             71273.0  6  0.026906\n2               2         38753.0             76659.0  2  0.008969\n3               3         38753.0             78447.0  2  0.008969\n4               4         38753.0             87045.0  1  0.004484\n...           ...             ...                 ... ..       ...\n78745       78745       4082963.0           4079671.0  2  0.006400\n78746       78746       4082963.0           4079870.0  2  0.006400\n78747       78747       4082963.0           4080187.0  2  0.006400\n78748       78748       4082963.0           4080979.0  2  0.006400\n78749       78749       4082963.0           4082963.0  6  0.019200\n\n[78750 rows x 5 columns]",
      "text/html": "<div>\n<style scoped>\n    .dataframe tbody tr th:only-of-type {\n        vertical-align: middle;\n    }\n\n    .dataframe tbody tr th {\n        vertical-align: top;\n    }\n\n    .dataframe thead th {\n        text-align: right;\n    }\n</style>\n<table border=\"1\" class=\"dataframe\">\n  <thead>\n    <tr style=\"text-align: right;\">\n      <th></th>\n      <th>Unnamed: 0</th>\n      <th>encoded_userId</th>\n      <th>encoded_receiverId</th>\n      <th>r</th>\n      <th>rating</th>\n    </tr>\n  </thead>\n  <tbody>\n    <tr>\n      <th>0</th>\n      <td>0</td>\n      <td>38753.0</td>\n      <td>69471.0</td>\n      <td>2</td>\n      <td>0.008969</td>\n    </tr>\n    <tr>\n      <th>1</th>\n      <td>1</td>\n      <td>38753.0</td>\n      <td>71273.0</td>\n      <td>6</td>\n      <td>0.026906</td>\n    </tr>\n    <tr>\n      <th>2</th>\n      <td>2</td>\n      <td>38753.0</td>\n      <td>76659.0</td>\n      <td>2</td>\n      <td>0.008969</td>\n    </tr>\n    <tr>\n      <th>3</th>\n      <td>3</td>\n      <td>38753.0</td>\n      <td>78447.0</td>\n      <td>2</td>\n      <td>0.008969</td>\n    </tr>\n    <tr>\n      <th>4</th>\n      <td>4</td>\n      <td>38753.0</td>\n      <td>87045.0</td>\n      <td>1</td>\n      <td>0.004484</td>\n    </tr>\n    <tr>\n      <th>...</th>\n      <td>...</td>\n      <td>...</td>\n      <td>...</td>\n      <td>...</td>\n      <td>...</td>\n    </tr>\n    <tr>\n      <th>78745</th>\n      <td>78745</td>\n      <td>4082963.0</td>\n      <td>4079671.0</td>\n      <td>2</td>\n      <td>0.006400</td>\n    </tr>\n    <tr>\n      <th>78746</th>\n      <td>78746</td>\n      <td>4082963.0</td>\n      <td>4079870.0</td>\n      <td>2</td>\n      <td>0.006400</td>\n    </tr>\n    <tr>\n      <th>78747</th>\n      <td>78747</td>\n      <td>4082963.0</td>\n      <td>4080187.0</td>\n      <td>2</td>\n      <td>0.006400</td>\n    </tr>\n    <tr>\n      <th>78748</th>\n      <td>78748</td>\n      <td>4082963.0</td>\n      <td>4080979.0</td>\n      <td>2</td>\n      <td>0.006400</td>\n    </tr>\n    <tr>\n      <th>78749</th>\n      <td>78749</td>\n      <td>4082963.0</td>\n      <td>4082963.0</td>\n      <td>6</td>\n      <td>0.019200</td>\n    </tr>\n  </tbody>\n</table>\n<p>78750 rows × 5 columns</p>\n</div>"
     },
     "execution_count": 9,
     "metadata": {},
     "output_type": "execute_result"
    }
   ],
   "source": [
    "import pandas as pd\n",
    "from models.REC_TF_MF_deep import REC_TF_MF_deep\n",
    "model_path = 'models/tf_mf_US_deep_2.h5'\n",
    "df = pd.read_csv('dataset/rating_count_dataset_US.csv')\n",
    "df"
   ],
   "metadata": {
    "collapsed": false,
    "ExecuteTime": {
     "end_time": "2023-09-06T12:59:30.727198Z",
     "start_time": "2023-09-06T12:59:28.908980Z"
    }
   }
  },
  {
   "cell_type": "markdown",
   "source": [],
   "metadata": {
    "collapsed": false
   }
  },
  {
   "cell_type": "code",
   "execution_count": 10,
   "outputs": [
    {
     "name": "stdout",
     "output_type": "stream",
     "text": [
      "[2635497.0, 3495777.0, 3494376.0, 2470175.0, 2516392.0] [3493199.0, 3034496.0, 3495491.0, 3494135.0, 137252.0]\n"
     ]
    },
    {
     "data": {
      "text/plain": "     encoded_userId  encoded_receiverId\nrow       3493199.0           2635497.0\nrow       3034496.0           3495777.0\nrow       3495491.0           3494376.0\nrow       3494135.0           2470175.0\nrow        137252.0           2516392.0",
      "text/html": "<div>\n<style scoped>\n    .dataframe tbody tr th:only-of-type {\n        vertical-align: middle;\n    }\n\n    .dataframe tbody tr th {\n        vertical-align: top;\n    }\n\n    .dataframe thead th {\n        text-align: right;\n    }\n</style>\n<table border=\"1\" class=\"dataframe\">\n  <thead>\n    <tr style=\"text-align: right;\">\n      <th></th>\n      <th>encoded_userId</th>\n      <th>encoded_receiverId</th>\n    </tr>\n  </thead>\n  <tbody>\n    <tr>\n      <th>row</th>\n      <td>3493199.0</td>\n      <td>2635497.0</td>\n    </tr>\n    <tr>\n      <th>row</th>\n      <td>3034496.0</td>\n      <td>3495777.0</td>\n    </tr>\n    <tr>\n      <th>row</th>\n      <td>3495491.0</td>\n      <td>3494376.0</td>\n    </tr>\n    <tr>\n      <th>row</th>\n      <td>3494135.0</td>\n      <td>2470175.0</td>\n    </tr>\n    <tr>\n      <th>row</th>\n      <td>137252.0</td>\n      <td>2516392.0</td>\n    </tr>\n  </tbody>\n</table>\n</div>"
     },
     "execution_count": 10,
     "metadata": {},
     "output_type": "execute_result"
    }
   ],
   "source": [
    "#4066199.0,4066660.0\n",
    "\n",
    "# 3493199.0  2635497.0  0.076102\n",
    "#1    3034496.0  3495777.0  0.067429\n",
    "#2    3495491.0  3494376.0  0.057658\n",
    "#3    3494135.0  2470175.0  0.057229\n",
    "#4     137252.0  2516392.0  0.055624\n",
    "U = [3493199.0,3034496.0,3495491.0,3494135.0,137252.0]\n",
    "S = [2635497.0,3495777.0,3494376.0,2470175.0,2516392.0]\n",
    "\n",
    "print(S,U)\n",
    "data = {'encoded_userId': U, 'encoded_receiverId': S}\n",
    "index = ['row']*5  # You can specify any index label you prefer\n",
    "\n",
    "df_pred = pd.DataFrame(data, index=index)\n",
    "df_pred"
   ],
   "metadata": {
    "collapsed": false,
    "ExecuteTime": {
     "end_time": "2023-09-06T12:59:31.002858Z",
     "start_time": "2023-09-06T12:59:30.999701Z"
    }
   }
  },
  {
   "cell_type": "code",
   "execution_count": 11,
   "outputs": [
    {
     "name": "stdout",
     "output_type": "stream",
     "text": [
      "model initing...\n"
     ]
    },
    {
     "name": "stderr",
     "output_type": "stream",
     "text": [
      "/Users/stepan_d/anaconda3/lib/python3.10/site-packages/keras/optimizers/legacy/adam.py:117: UserWarning: The `lr` argument is deprecated, use `learning_rate` instead.\n",
      "  super().__init__(name, **kwargs)\n"
     ]
    },
    {
     "name": "stdout",
     "output_type": "stream",
     "text": [
      "model init\n",
      "model__created <keras.engine.functional.Functional object at 0x2a816cb80>\n"
     ]
    }
   ],
   "source": [
    "\n",
    "K = 10 # latent dimensionality\n",
    "\n",
    "reg = 0.0001 # regularization penalty\n",
    "model = REC_TF_MF_deep(df)\n",
    "#model.train_model(0.8,K=10,reg=0.0001,epochs=5)\n",
    "model.load_model('models/tf_mf_US_deep_2.h5')\n",
    "from keras.models import load_model\n",
    "model_deep = load_model('models/tf_mf_US_deep_2.h5')"
   ],
   "metadata": {
    "collapsed": false,
    "ExecuteTime": {
     "end_time": "2023-09-06T12:59:33.727571Z",
     "start_time": "2023-09-06T12:59:31.002950Z"
    }
   }
  },
  {
   "cell_type": "code",
   "execution_count": 12,
   "outputs": [],
   "source": [
    "mu = df.rating.mean()"
   ],
   "metadata": {
    "collapsed": false,
    "ExecuteTime": {
     "end_time": "2023-09-06T12:59:33.729049Z",
     "start_time": "2023-09-06T12:59:33.715243Z"
    }
   }
  },
  {
   "cell_type": "code",
   "execution_count": 13,
   "outputs": [],
   "source": [
    "model.save_model('run_time.h5')"
   ],
   "metadata": {
    "collapsed": false,
    "ExecuteTime": {
     "end_time": "2023-09-06T12:59:34.185973Z",
     "start_time": "2023-09-06T12:59:33.727781Z"
    }
   }
  },
  {
   "cell_type": "code",
   "execution_count": 14,
   "outputs": [
    {
     "name": "stdout",
     "output_type": "stream",
     "text": [
      "1/1 [==============================] - 0s 199ms/step\n"
     ]
    },
    {
     "name": "stderr",
     "output_type": "stream",
     "text": [
      "2023-09-06 15:59:34.234317: W tensorflow/tsl/platform/profile_utils/cpu_utils.cc:128] Failed to get CPU frequency: 0 Hz\n"
     ]
    }
   ],
   "source": [
    "\n",
    "pred = model.predict([df_pred.encoded_userId.values, df_pred.encoded_receiverId.values])"
   ],
   "metadata": {
    "collapsed": false,
    "ExecuteTime": {
     "end_time": "2023-09-06T12:59:34.436304Z",
     "start_time": "2023-09-06T12:59:34.190795Z"
    }
   }
  },
  {
   "cell_type": "markdown",
   "source": [],
   "metadata": {
    "collapsed": false
   }
  },
  {
   "cell_type": "code",
   "execution_count": 14,
   "outputs": [],
   "source": [],
   "metadata": {
    "collapsed": false,
    "ExecuteTime": {
     "end_time": "2023-09-06T12:59:34.438195Z",
     "start_time": "2023-09-06T12:59:34.435888Z"
    }
   }
  },
  {
   "cell_type": "code",
   "execution_count": 15,
   "outputs": [
    {
     "data": {
      "text/plain": "array([[0.5163073 ],\n       [0.50763446],\n       [0.49786392],\n       [0.4974347 ],\n       [0.49582952]], dtype=float32)"
     },
     "execution_count": 15,
     "metadata": {},
     "output_type": "execute_result"
    }
   ],
   "source": [
    "pred"
   ],
   "metadata": {
    "collapsed": false,
    "ExecuteTime": {
     "end_time": "2023-09-06T12:59:34.440511Z",
     "start_time": "2023-09-06T12:59:34.438276Z"
    }
   }
  },
  {
   "cell_type": "code",
   "execution_count": 16,
   "outputs": [
    {
     "data": {
      "text/plain": "     encoded_userId  encoded_receiverId\nrow       3493199.0           2635497.0\nrow       3034496.0           3495777.0\nrow       3495491.0           3494376.0\nrow       3494135.0           2470175.0\nrow        137252.0           2516392.0",
      "text/html": "<div>\n<style scoped>\n    .dataframe tbody tr th:only-of-type {\n        vertical-align: middle;\n    }\n\n    .dataframe tbody tr th {\n        vertical-align: top;\n    }\n\n    .dataframe thead th {\n        text-align: right;\n    }\n</style>\n<table border=\"1\" class=\"dataframe\">\n  <thead>\n    <tr style=\"text-align: right;\">\n      <th></th>\n      <th>encoded_userId</th>\n      <th>encoded_receiverId</th>\n    </tr>\n  </thead>\n  <tbody>\n    <tr>\n      <th>row</th>\n      <td>3493199.0</td>\n      <td>2635497.0</td>\n    </tr>\n    <tr>\n      <th>row</th>\n      <td>3034496.0</td>\n      <td>3495777.0</td>\n    </tr>\n    <tr>\n      <th>row</th>\n      <td>3495491.0</td>\n      <td>3494376.0</td>\n    </tr>\n    <tr>\n      <th>row</th>\n      <td>3494135.0</td>\n      <td>2470175.0</td>\n    </tr>\n    <tr>\n      <th>row</th>\n      <td>137252.0</td>\n      <td>2516392.0</td>\n    </tr>\n  </tbody>\n</table>\n</div>"
     },
     "execution_count": 16,
     "metadata": {},
     "output_type": "execute_result"
    }
   ],
   "source": [
    "df_pred"
   ],
   "metadata": {
    "collapsed": false,
    "ExecuteTime": {
     "end_time": "2023-09-06T12:59:34.444721Z",
     "start_time": "2023-09-06T12:59:34.442094Z"
    }
   }
  },
  {
   "cell_type": "markdown",
   "source": [],
   "metadata": {
    "collapsed": false
   }
  },
  {
   "cell_type": "code",
   "execution_count": 17,
   "outputs": [],
   "source": [
    "#model_deep.predict([df_pred.encoded_userId.values, df_pred.encoded_receiverId.values])+df.rating.mean()"
   ],
   "metadata": {
    "collapsed": false,
    "ExecuteTime": {
     "end_time": "2023-09-06T12:59:34.446730Z",
     "start_time": "2023-09-06T12:59:34.444980Z"
    }
   }
  },
  {
   "cell_type": "code",
   "execution_count": 18,
   "outputs": [
    {
     "data": {
      "text/plain": "array([[0.5163073 ],\n       [0.50763446],\n       [0.49786392],\n       [0.4974347 ],\n       [0.49582952]], dtype=float32)"
     },
     "execution_count": 18,
     "metadata": {},
     "output_type": "execute_result"
    }
   ],
   "source": [
    "pred"
   ],
   "metadata": {
    "collapsed": false,
    "ExecuteTime": {
     "end_time": "2023-09-06T12:59:34.450463Z",
     "start_time": "2023-09-06T12:59:34.447765Z"
    }
   }
  },
  {
   "cell_type": "code",
   "execution_count": 19,
   "outputs": [],
   "source": [
    "map_df = pd.read_csv('dataset/user_map_id.csv')\n",
    "map_r_df = pd.read_csv('dataset/receiverId_map.csv')\n",
    "map_df=map_df.drop(columns='Unnamed: 0').to_dict()['userId']\n",
    "reversed_label_mapping = {value: key for key, value in map_df.items()}\n",
    "map_r_df=map_r_df.to_dict()['receiverId']\n",
    "reversed_r_label_mapping = {value: key for key, value in map_df.items()}"
   ],
   "metadata": {
    "collapsed": false,
    "ExecuteTime": {
     "end_time": "2023-09-06T12:59:41.065943Z",
     "start_time": "2023-09-06T12:59:34.451045Z"
    }
   }
  },
  {
   "cell_type": "code",
   "execution_count": 19,
   "outputs": [],
   "source": [],
   "metadata": {
    "collapsed": false,
    "ExecuteTime": {
     "end_time": "2023-09-06T12:59:41.068505Z",
     "start_time": "2023-09-06T12:59:41.066261Z"
    }
   }
  },
  {
   "cell_type": "code",
   "execution_count": 20,
   "outputs": [],
   "source": [
    "\n",
    "def mapper(u,s):\n",
    "    global reversed_r_label_mapping,reversed_label_mapping\n",
    "\n",
    "    u_fake = [item for item in u if item not in reversed_label_mapping]\n",
    "    u = [item for item in u if item not in u_fake]\n",
    "    u_id = [reversed_label_mapping[u_i] for u_i in u]\n",
    "\n",
    "    fake = [item for item in s if item not in reversed_r_label_mapping]\n",
    "    s  = [item for item in s if item not in fake]\n",
    "    s_id = [reversed_r_label_mapping[s_i] for s_i in s]\n",
    "\n",
    "    s_max_issue =  [item for item in s_id if item > model.model.weights[0].shape[0]]\n",
    "    s_id  = [item for item in s_id if item < model.model.weights[0].shape[0]]\n",
    "\n",
    "    return u_id,s_id ,fake,s_max_issue\n",
    "def mapper_df(df):\n",
    "    global reversed_r_label_mapping,reversed_label_mapping\n",
    "    #df['userId'] =  df[df['userId'].isin(list(reversed_label_mapping.keys()))]\n",
    "\n",
    "    df['encoded_userId'] = df['userId'].map(reversed_label_mapping)\n",
    "    df['encoded_receiverId'] = df['receiverId'].map(reversed_r_label_mapping)\n",
    "    return df\n",
    "def get_recomendation(U,S):\n",
    "    global mu\n",
    "    U,S,fake,s_max_issue = mapper(U,S)\n",
    "    print('fake streamer:',len(fake),\n",
    "          'new user id',len(s_max_issue),'\\n',\n",
    "          'model max user',model.model.weights[0].shape[0],\n",
    "          'model max user',model.model.weights[1].shape[0])\n",
    "    pairs = [(u, s) for s in S for u in U]\n",
    "    U = [pair[0] for pair in pairs]\n",
    "    S = [pair[1] for pair in pairs]\n",
    "    #print( U, S)\n",
    "    data = {'encoded_userId': U, 'encoded_receiverId': S}\n",
    "    index = [f'row{i}' for i in range(len(S))]  # You can specify any index label you prefer\n",
    "\n",
    "    df_pred = pd.DataFrame(data, index=index)\n",
    "    df_pred\n",
    "    pred = model.predict([df_pred.encoded_userId.values, df_pred.encoded_receiverId.values]) + mu\n",
    "    #print(sum(pred)/len(pred))\n",
    "    pred = [p[0] for  p in pred]\n",
    "    return pd.DataFrame(data=[U,S,pred]).transpose()\n",
    "\n",
    "def retrain(traffic,qu,qs):\n",
    "\n",
    "    new_user = traffic[traffic['userId'].isin(qu)&traffic['receiverId'].isin(qs)][['userId','receiverId']]\n",
    "    new_user = mapper_df(new_user)\n",
    "    from data_preproc.data_preproc import Data_preproc\n",
    "    dataset = Data_preproc.data_preproc(new_user)\n",
    "    model.concept_update(dataset)\n",
    "    return traffic.userId.unique(),traffic.receiverId.unique()\n"
   ],
   "metadata": {
    "collapsed": false,
    "ExecuteTime": {
     "end_time": "2023-09-06T12:59:41.073812Z",
     "start_time": "2023-09-06T12:59:41.071985Z"
    }
   }
  },
  {
   "cell_type": "code",
   "execution_count": 21,
   "outputs": [
    {
     "name": "stdout",
     "output_type": "stream",
     "text": [
      "itration  0\n",
      "ALL 39 349\n",
      "do not know 20 173\n",
      "fake streamer: 15 new user id 0 \n",
      " model max user 4082964 model max user 4084028\n",
      "96/96 [==============================] - 1s 4ms/step\n"
     ]
    },
    {
     "name": "stderr",
     "output_type": "stream",
     "text": [
      "228it [00:00, 8534.21it/s]\n"
     ]
    },
    {
     "name": "stdout",
     "output_type": "stream",
     "text": [
      "DATASET SHAPE:  (78750, 5)\n",
      "2/2 [==============================] - 2s 418ms/step - loss: 0.2471\n",
      "model initing...\n",
      "model init\n"
     ]
    },
    {
     "name": "stderr",
     "output_type": "stream",
     "text": [
      "/Users/stepan_d/anaconda3/lib/python3.10/site-packages/keras/optimizers/legacy/adam.py:117: UserWarning: The `lr` argument is deprecated, use `learning_rate` instead.\n",
      "  super().__init__(name, **kwargs)\n",
      "2023/09/06 15:59:47 INFO mlflow.tracking.fluent: Autologging successfully enabled for sklearn.\n",
      "2023/09/06 15:59:47 INFO mlflow.tracking.fluent: Autologging successfully enabled for statsmodels.\n",
      "2023/09/06 15:59:47 INFO mlflow.tracking.fluent: Autologging successfully enabled for tensorflow.\n",
      "2023/09/06 15:59:47 INFO mlflow.utils.autologging_utils: Created MLflow autologging run with ID '552acac0adb048929550049236ba662f', which will track hyperparameters, performance metrics, model artifacts, and lineage information for the current tensorflow workflow\n",
      "2023/09/06 15:59:47 WARNING mlflow.tensorflow: Unrecognized dataset type <class 'list'>. Dataset logging skipped.\n",
      "2023/09/06 15:59:47 WARNING mlflow.tensorflow: Failed to log training dataset information to MLflow Tracking. Reason: 'list' object has no attribute 'flatten'\n"
     ]
    },
    {
     "name": "stdout",
     "output_type": "stream",
     "text": [
      "494/494 [==============================] - 65s 129ms/step - loss: 0.3565 - mse: 0.0483 - mae: 0.1282 - val_loss: 0.0463 - val_mse: 0.0237 - val_mae: 0.0432\n"
     ]
    },
    {
     "name": "stderr",
     "output_type": "stream",
     "text": [
      "2023/09/06 16:00:52 WARNING mlflow.tensorflow: Failed to infer model signature: could not sample data to infer model signature: tuple index out of range\n",
      "2023/09/06 16:00:52 WARNING mlflow.tensorflow: You are saving a TensorFlow Core model or Keras model without a signature. Inference with mlflow.pyfunc.spark_udf() will not work unless the model's pyfunc representation accepts pandas DataFrames as inference inputs.\n"
     ]
    },
    {
     "name": "stdout",
     "output_type": "stream",
     "text": [
      "INFO:tensorflow:Assets written to: /var/folders/47/3r75qrcx7h97ck6ywj_y7kxm0000gn/T/tmp0f9tin5c/model/data/model/assets\n"
     ]
    },
    {
     "name": "stderr",
     "output_type": "stream",
     "text": [
      "2023/09/06 16:00:59 WARNING mlflow.utils.autologging_utils: MLflow autologging encountered a warning: \"/Users/stepan_d/anaconda3/lib/python3.10/site-packages/_distutils_hack/__init__.py:33: UserWarning: Setuptools is replacing distutils.\"\n"
     ]
    },
    {
     "name": "stdout",
     "output_type": "stream",
     "text": [
      "itration  1\n",
      "ALL 40 344\n",
      "do not know 6 106\n",
      "fake streamer: 5 new user id 0 \n",
      " model max user 4082964 model max user 4097779\n",
      "111/111 [==============================] - 1s 7ms/step\n"
     ]
    },
    {
     "name": "stderr",
     "output_type": "stream",
     "text": [
      "250it [00:00, 8457.90it/s]\n",
      "2023/09/06 16:01:04 INFO mlflow.utils.autologging_utils: Created MLflow autologging run with ID '211443af5ae047e1b9bb47ee0c3977c9', which will track hyperparameters, performance metrics, model artifacts, and lineage information for the current tensorflow workflow\n",
      "2023/09/06 16:01:04 WARNING mlflow.tensorflow: Unrecognized dataset type <class 'list'>. Dataset logging skipped.\n"
     ]
    },
    {
     "name": "stdout",
     "output_type": "stream",
     "text": [
      "DATASET SHAPE:  (78978, 3)\n",
      "2/2 [==============================] - 2s 618ms/step - loss: 0.0633\n"
     ]
    },
    {
     "name": "stderr",
     "output_type": "stream",
     "text": [
      "2023/09/06 16:01:06 WARNING mlflow.tensorflow: Failed to infer model signature: could not sample data to infer model signature: tuple index out of range\n",
      "2023/09/06 16:01:06 WARNING mlflow.tensorflow: You are saving a TensorFlow Core model or Keras model without a signature. Inference with mlflow.pyfunc.spark_udf() will not work unless the model's pyfunc representation accepts pandas DataFrames as inference inputs.\n"
     ]
    },
    {
     "name": "stdout",
     "output_type": "stream",
     "text": [
      "INFO:tensorflow:Assets written to: /var/folders/47/3r75qrcx7h97ck6ywj_y7kxm0000gn/T/tmp33ynwxk2/model/data/model/assets\n",
      "model initing...\n",
      "model init\n"
     ]
    },
    {
     "name": "stderr",
     "output_type": "stream",
     "text": [
      "/Users/stepan_d/anaconda3/lib/python3.10/site-packages/keras/optimizers/legacy/adam.py:117: UserWarning: The `lr` argument is deprecated, use `learning_rate` instead.\n",
      "  super().__init__(name, **kwargs)\n",
      "2023/09/06 16:01:14 INFO mlflow.tracking.fluent: Autologging successfully enabled for sklearn.\n",
      "2023/09/06 16:01:14 INFO mlflow.tracking.fluent: Autologging successfully enabled for statsmodels.\n",
      "2023/09/06 16:01:14 INFO mlflow.tracking.fluent: Autologging successfully enabled for tensorflow.\n",
      "2023/09/06 16:01:14 INFO mlflow.utils.autologging_utils: Created MLflow autologging run with ID '5d74ab79f4624f0d8391a9a928633fa9', which will track hyperparameters, performance metrics, model artifacts, and lineage information for the current tensorflow workflow\n",
      "2023/09/06 16:01:14 WARNING mlflow.tensorflow: Unrecognized dataset type <class 'list'>. Dataset logging skipped.\n",
      "2023/09/06 16:01:14 WARNING mlflow.tensorflow: Failed to log training dataset information to MLflow Tracking. Reason: 'list' object has no attribute 'flatten'\n"
     ]
    },
    {
     "name": "stdout",
     "output_type": "stream",
     "text": [
      "496/496 [==============================] - 66s 130ms/step - loss: 0.4032 - mse: 0.0909 - mae: 0.1756 - val_loss: 0.0495 - val_mse: 0.0245 - val_mae: 0.0461\n"
     ]
    },
    {
     "name": "stderr",
     "output_type": "stream",
     "text": [
      "2023/09/06 16:02:20 WARNING mlflow.tensorflow: Failed to infer model signature: could not sample data to infer model signature: tuple index out of range\n",
      "2023/09/06 16:02:20 WARNING mlflow.tensorflow: You are saving a TensorFlow Core model or Keras model without a signature. Inference with mlflow.pyfunc.spark_udf() will not work unless the model's pyfunc representation accepts pandas DataFrames as inference inputs.\n"
     ]
    },
    {
     "name": "stdout",
     "output_type": "stream",
     "text": [
      "INFO:tensorflow:Assets written to: /var/folders/47/3r75qrcx7h97ck6ywj_y7kxm0000gn/T/tmp_x_9npu6/model/data/model/assets\n",
      "itration  2\n",
      "ALL 39 320\n",
      "do not know 6 79\n",
      "fake streamer: 18 new user id 0 \n",
      " model max user 4082964 model max user 4097779\n",
      "93/93 [==============================] - 1s 7ms/step\n"
     ]
    },
    {
     "name": "stderr",
     "output_type": "stream",
     "text": [
      "247it [00:00, 9710.68it/s]\n",
      "2023/09/06 16:02:31 INFO mlflow.utils.autologging_utils: Created MLflow autologging run with ID 'ef40d51dd7404fd6848a9961138b43f7', which will track hyperparameters, performance metrics, model artifacts, and lineage information for the current tensorflow workflow\n",
      "2023/09/06 16:02:31 WARNING mlflow.tensorflow: Unrecognized dataset type <class 'list'>. Dataset logging skipped.\n"
     ]
    },
    {
     "name": "stdout",
     "output_type": "stream",
     "text": [
      "DATASET SHAPE:  (79228, 3)\n",
      "2/2 [==============================] - 2s 666ms/step - loss: 0.0620\n"
     ]
    },
    {
     "name": "stderr",
     "output_type": "stream",
     "text": [
      "2023/09/06 16:02:33 WARNING mlflow.tensorflow: Failed to infer model signature: could not sample data to infer model signature: tuple index out of range\n",
      "2023/09/06 16:02:33 WARNING mlflow.tensorflow: You are saving a TensorFlow Core model or Keras model without a signature. Inference with mlflow.pyfunc.spark_udf() will not work unless the model's pyfunc representation accepts pandas DataFrames as inference inputs.\n"
     ]
    },
    {
     "name": "stdout",
     "output_type": "stream",
     "text": [
      "INFO:tensorflow:Assets written to: /var/folders/47/3r75qrcx7h97ck6ywj_y7kxm0000gn/T/tmpc00kjdbf/model/data/model/assets\n",
      "model initing...\n",
      "model init\n"
     ]
    },
    {
     "name": "stderr",
     "output_type": "stream",
     "text": [
      "/Users/stepan_d/anaconda3/lib/python3.10/site-packages/keras/optimizers/legacy/adam.py:117: UserWarning: The `lr` argument is deprecated, use `learning_rate` instead.\n",
      "  super().__init__(name, **kwargs)\n",
      "2023/09/06 16:02:41 INFO mlflow.tracking.fluent: Autologging successfully enabled for sklearn.\n",
      "2023/09/06 16:02:41 INFO mlflow.tracking.fluent: Autologging successfully enabled for statsmodels.\n",
      "2023/09/06 16:02:41 INFO mlflow.tracking.fluent: Autologging successfully enabled for tensorflow.\n",
      "2023/09/06 16:02:41 INFO mlflow.utils.autologging_utils: Created MLflow autologging run with ID '47afe199c01e43288a7af914c86cc20f', which will track hyperparameters, performance metrics, model artifacts, and lineage information for the current tensorflow workflow\n",
      "2023/09/06 16:02:41 WARNING mlflow.tensorflow: Unrecognized dataset type <class 'list'>. Dataset logging skipped.\n",
      "2023/09/06 16:02:41 WARNING mlflow.tensorflow: Failed to log training dataset information to MLflow Tracking. Reason: 'list' object has no attribute 'flatten'\n"
     ]
    },
    {
     "name": "stdout",
     "output_type": "stream",
     "text": [
      "497/497 [==============================] - 68s 135ms/step - loss: 0.3395 - mse: 0.0408 - mae: 0.1127 - val_loss: 0.0486 - val_mse: 0.0256 - val_mae: 0.0457\n"
     ]
    },
    {
     "name": "stderr",
     "output_type": "stream",
     "text": [
      "2023/09/06 16:03:49 WARNING mlflow.tensorflow: Failed to infer model signature: could not sample data to infer model signature: tuple index out of range\n",
      "2023/09/06 16:03:49 WARNING mlflow.tensorflow: You are saving a TensorFlow Core model or Keras model without a signature. Inference with mlflow.pyfunc.spark_udf() will not work unless the model's pyfunc representation accepts pandas DataFrames as inference inputs.\n"
     ]
    },
    {
     "name": "stdout",
     "output_type": "stream",
     "text": [
      "INFO:tensorflow:Assets written to: /var/folders/47/3r75qrcx7h97ck6ywj_y7kxm0000gn/T/tmpwmeyempl/model/data/model/assets\n",
      "itration  3\n",
      "ALL 31 377\n",
      "do not know 6 97\n",
      "fake streamer: 14 new user id 0 \n",
      " model max user 4082964 model max user 4097779\n",
      "90/90 [==============================] - 1s 7ms/step\n"
     ]
    },
    {
     "name": "stderr",
     "output_type": "stream",
     "text": [
      "215it [00:00, 9602.55it/s]\n",
      "2023/09/06 16:04:00 INFO mlflow.utils.autologging_utils: Created MLflow autologging run with ID '25735d03e9684fe29415453207adfebb', which will track hyperparameters, performance metrics, model artifacts, and lineage information for the current tensorflow workflow\n",
      "2023/09/06 16:04:00 WARNING mlflow.tensorflow: Unrecognized dataset type <class 'list'>. Dataset logging skipped.\n"
     ]
    },
    {
     "name": "stdout",
     "output_type": "stream",
     "text": [
      "DATASET SHAPE:  (79475, 3)\n",
      "2/2 [==============================] - 2s 696ms/step - loss: 0.0857\n"
     ]
    },
    {
     "name": "stderr",
     "output_type": "stream",
     "text": [
      "2023/09/06 16:04:02 WARNING mlflow.tensorflow: Failed to infer model signature: could not sample data to infer model signature: tuple index out of range\n",
      "2023/09/06 16:04:02 WARNING mlflow.tensorflow: You are saving a TensorFlow Core model or Keras model without a signature. Inference with mlflow.pyfunc.spark_udf() will not work unless the model's pyfunc representation accepts pandas DataFrames as inference inputs.\n"
     ]
    },
    {
     "name": "stdout",
     "output_type": "stream",
     "text": [
      "INFO:tensorflow:Assets written to: /var/folders/47/3r75qrcx7h97ck6ywj_y7kxm0000gn/T/tmpgo0nafrn/model/data/model/assets\n"
     ]
    },
    {
     "name": "stderr",
     "output_type": "stream",
     "text": [
      "/Users/stepan_d/anaconda3/lib/python3.10/site-packages/keras/optimizers/legacy/adam.py:117: UserWarning: The `lr` argument is deprecated, use `learning_rate` instead.\n",
      "  super().__init__(name, **kwargs)\n",
      "2023/09/06 16:04:10 INFO mlflow.tracking.fluent: Autologging successfully enabled for sklearn.\n",
      "2023/09/06 16:04:10 INFO mlflow.tracking.fluent: Autologging successfully enabled for statsmodels.\n",
      "2023/09/06 16:04:10 INFO mlflow.tracking.fluent: Autologging successfully enabled for tensorflow.\n"
     ]
    },
    {
     "name": "stdout",
     "output_type": "stream",
     "text": [
      "model initing...\n",
      "model init\n"
     ]
    },
    {
     "name": "stderr",
     "output_type": "stream",
     "text": [
      "2023/09/06 16:04:10 INFO mlflow.utils.autologging_utils: Created MLflow autologging run with ID '585e2272de47499ba3355832394dd900', which will track hyperparameters, performance metrics, model artifacts, and lineage information for the current tensorflow workflow\n",
      "2023/09/06 16:04:10 WARNING mlflow.tensorflow: Unrecognized dataset type <class 'list'>. Dataset logging skipped.\n",
      "2023/09/06 16:04:10 WARNING mlflow.tensorflow: Failed to log training dataset information to MLflow Tracking. Reason: 'list' object has no attribute 'flatten'\n"
     ]
    },
    {
     "name": "stdout",
     "output_type": "stream",
     "text": [
      "499/499 [==============================] - 66s 130ms/step - loss: 0.3701 - mse: 0.0584 - mae: 0.1438 - val_loss: 0.0510 - val_mse: 0.0258 - val_mae: 0.0477\n"
     ]
    },
    {
     "name": "stderr",
     "output_type": "stream",
     "text": [
      "2023/09/06 16:05:17 WARNING mlflow.tensorflow: Failed to infer model signature: could not sample data to infer model signature: tuple index out of range\n",
      "2023/09/06 16:05:17 WARNING mlflow.tensorflow: You are saving a TensorFlow Core model or Keras model without a signature. Inference with mlflow.pyfunc.spark_udf() will not work unless the model's pyfunc representation accepts pandas DataFrames as inference inputs.\n"
     ]
    },
    {
     "name": "stdout",
     "output_type": "stream",
     "text": [
      "INFO:tensorflow:Assets written to: /var/folders/47/3r75qrcx7h97ck6ywj_y7kxm0000gn/T/tmpkxfoocj6/model/data/model/assets\n",
      "itration  4\n",
      "ALL 28 277\n",
      "do not know 1 58\n",
      "fake streamer: 3 new user id 0 \n",
      " model max user 4082964 model max user 4097779\n",
      "88/88 [==============================] - 1s 7ms/step\n"
     ]
    },
    {
     "name": "stderr",
     "output_type": "stream",
     "text": [
      "108it [00:00, 9456.10it/s]\n",
      "2023/09/06 16:05:28 INFO mlflow.utils.autologging_utils: Created MLflow autologging run with ID '49c6a11f5fa14937b423a43e9a5058f1', which will track hyperparameters, performance metrics, model artifacts, and lineage information for the current tensorflow workflow\n",
      "2023/09/06 16:05:28 WARNING mlflow.tensorflow: Unrecognized dataset type <class 'list'>. Dataset logging skipped.\n"
     ]
    },
    {
     "name": "stdout",
     "output_type": "stream",
     "text": [
      "DATASET SHAPE:  (79690, 3)\n",
      "1/1 [==============================] - 2s 2s/step - loss: 0.1220\n"
     ]
    },
    {
     "name": "stderr",
     "output_type": "stream",
     "text": [
      "2023/09/06 16:05:30 WARNING mlflow.tensorflow: Failed to infer model signature: could not sample data to infer model signature: tuple index out of range\n",
      "2023/09/06 16:05:30 WARNING mlflow.tensorflow: You are saving a TensorFlow Core model or Keras model without a signature. Inference with mlflow.pyfunc.spark_udf() will not work unless the model's pyfunc representation accepts pandas DataFrames as inference inputs.\n"
     ]
    },
    {
     "name": "stdout",
     "output_type": "stream",
     "text": [
      "INFO:tensorflow:Assets written to: /var/folders/47/3r75qrcx7h97ck6ywj_y7kxm0000gn/T/tmpf3zpz_le/model/data/model/assets\n",
      "model initing...\n",
      "model init\n"
     ]
    },
    {
     "name": "stderr",
     "output_type": "stream",
     "text": [
      "/Users/stepan_d/anaconda3/lib/python3.10/site-packages/keras/optimizers/legacy/adam.py:117: UserWarning: The `lr` argument is deprecated, use `learning_rate` instead.\n",
      "  super().__init__(name, **kwargs)\n",
      "2023/09/06 16:05:37 INFO mlflow.tracking.fluent: Autologging successfully enabled for sklearn.\n",
      "2023/09/06 16:05:37 INFO mlflow.tracking.fluent: Autologging successfully enabled for statsmodels.\n",
      "2023/09/06 16:05:37 INFO mlflow.tracking.fluent: Autologging successfully enabled for tensorflow.\n",
      "2023/09/06 16:05:37 INFO mlflow.utils.autologging_utils: Created MLflow autologging run with ID '08a40ebe417342349b3543687aff3508', which will track hyperparameters, performance metrics, model artifacts, and lineage information for the current tensorflow workflow\n",
      "2023/09/06 16:05:37 WARNING mlflow.tensorflow: Unrecognized dataset type <class 'list'>. Dataset logging skipped.\n",
      "2023/09/06 16:05:37 WARNING mlflow.tensorflow: Failed to log training dataset information to MLflow Tracking. Reason: 'list' object has no attribute 'flatten'\n"
     ]
    },
    {
     "name": "stdout",
     "output_type": "stream",
     "text": [
      "135/499 [=======>......................] - ETA: 46s - loss: 1.1022 - mse: 0.1452 - mae: 0.2744"
     ]
    },
    {
     "name": "stderr",
     "output_type": "stream",
     "text": [
      "\n",
      "KeyboardInterrupt\n",
      "\n"
     ]
    }
   ],
   "source": [
    "import time\n",
    "trafic_user = userId_model_know\n",
    "trafic_streamer = receiverId_model_know\n",
    "que_s = []\n",
    "que_u = []\n",
    "for it,trafic in enumerate(split_dataframes):\n",
    "    print('itration ',it)\n",
    "    user_list  = trafic.userId.unique()\n",
    "    streamer_list  = trafic.receiverId.unique()\n",
    "\n",
    "    print('ALL',len(user_list),len(streamer_list))\n",
    "    not_exist_u = [i for i in user_list if i not in trafic_user]\n",
    "    not_exist_s = [i for i in streamer_list if i not in trafic_streamer]\n",
    "    exist_u = [i for i in userId_model_know if i  in user_list]\n",
    "    exist_s = [i for i in receiverId_model_know if i  in streamer_list]\n",
    "\n",
    "    print('do not know',\n",
    "          len(not_exist_u),\n",
    "          len(not_exist_s))\n",
    "    que_u = que_u + not_exist_u\n",
    "    que_s = que_s + not_exist_s\n",
    "    ratings = get_recomendation(exist_u,exist_s)\n",
    "    #print(\"RATING:\",ratings)\n",
    "    #print([i for i in rating])\n",
    "    #predict -get recommend\n",
    "    ru,rs = retrain(trafic,que_u,que_s)\n",
    "    trafic_user = list(trafic_user) + list(ru)\n",
    "    trafic_streamer = list(trafic_streamer) + list(rs)\n"
   ],
   "metadata": {
    "collapsed": false,
    "ExecuteTime": {
     "end_time": "2023-09-06T13:05:56.441996Z",
     "start_time": "2023-09-06T12:59:41.076141Z"
    }
   }
  },
  {
   "cell_type": "code",
   "execution_count": null,
   "outputs": [],
   "source": [
    "model.model.weights[1].shape[0]"
   ],
   "metadata": {
    "collapsed": false,
    "ExecuteTime": {
     "start_time": "2023-09-04T12:09:03.367879Z"
    }
   }
  },
  {
   "cell_type": "code",
   "execution_count": null,
   "outputs": [],
   "source": [
    "dfl = df.copy()\n",
    "dfl['rating'] = df['rating']+1"
   ],
   "metadata": {
    "collapsed": false,
    "ExecuteTime": {
     "start_time": "2023-09-04T10:50:47.736006Z"
    }
   }
  },
  {
   "cell_type": "code",
   "execution_count": null,
   "outputs": [],
   "source": [
    "merged_df = pd.concat([dfl.iloc[:3][['encoded_userId', 'encoded_receiverId','rating']], df.iloc[:5][['encoded_userId', 'encoded_receiverId','rating']]], ignore_index=True)\n",
    "merged_df.groupby(by=['encoded_userId', 'encoded_receiverId']).mean().reset_index()"
   ],
   "metadata": {
    "collapsed": false,
    "ExecuteTime": {
     "start_time": "2023-09-04T10:50:47.737189Z"
    }
   }
  },
  {
   "cell_type": "code",
   "execution_count": null,
   "outputs": [],
   "source": [
    "merged_df['rating'] = (merged_df['rating_x'] + merged_df['rating_y'])/2\n"
   ],
   "metadata": {
    "collapsed": false
   }
  },
  {
   "cell_type": "code",
   "execution_count": null,
   "outputs": [],
   "source": [
    "merged_df.drop(columns=['rating_x','rating_y'])"
   ],
   "metadata": {
    "collapsed": false
   }
  },
  {
   "cell_type": "code",
   "execution_count": null,
   "outputs": [],
   "source": [
    "df.iloc[:3][['encoded_userId', 'encoded_receiverId','rating']].columns"
   ],
   "metadata": {
    "collapsed": false
   }
  },
  {
   "cell_type": "code",
   "execution_count": null,
   "outputs": [],
   "source": [
    "list(reversed_label_mapping.keys())[4084546]\n"
   ],
   "metadata": {
    "collapsed": false
   }
  },
  {
   "cell_type": "code",
   "execution_count": null,
   "outputs": [],
   "source": [
    "import numpy as np\n",
    "\n",
    "model.model.weights[0].shape[0]"
   ],
   "metadata": {
    "collapsed": false
   }
  },
  {
   "cell_type": "code",
   "execution_count": null,
   "outputs": [],
   "source": [],
   "metadata": {
    "collapsed": false
   }
  }
 ],
 "metadata": {
  "kernelspec": {
   "display_name": "Python 3",
   "language": "python",
   "name": "python3"
  },
  "language_info": {
   "codemirror_mode": {
    "name": "ipython",
    "version": 2
   },
   "file_extension": ".py",
   "mimetype": "text/x-python",
   "name": "python",
   "nbconvert_exporter": "python",
   "pygments_lexer": "ipython2",
   "version": "2.7.6"
  }
 },
 "nbformat": 4,
 "nbformat_minor": 0
}
