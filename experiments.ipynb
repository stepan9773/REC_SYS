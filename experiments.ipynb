{
 "cells": [
  {
   "cell_type": "code",
   "execution_count": 1,
   "metadata": {
    "collapsed": true,
    "ExecuteTime": {
     "end_time": "2023-09-11T09:21:54.881613Z",
     "start_time": "2023-09-11T09:21:52.763757Z"
    }
   },
   "outputs": [],
   "source": [
    "from models.REC_TF_MF_deep import REC_TF_MF_deep\n",
    "import pandas as pd"
   ]
  },
  {
   "cell_type": "code",
   "execution_count": 2,
   "outputs": [
    {
     "data": {
      "text/plain": "<Experiment: artifact_location='file:///Users/stepan_d/Desktop/rec_sys/recommend_system/mlruns/949424654166878363', creation_time=1692709126325, experiment_id='949424654166878363', last_update_time=1692709126325, lifecycle_stage='active', name='REC_TF_MF_deep', tags={}>"
     },
     "execution_count": 2,
     "metadata": {},
     "output_type": "execute_result"
    }
   ],
   "source": [
    "import mlflow\n",
    "import mlflow.tensorflow\n",
    "mlflow.set_experiment('REC_TF_MF_deep')"
   ],
   "metadata": {
    "collapsed": false,
    "ExecuteTime": {
     "end_time": "2023-08-22T13:33:09.719992Z",
     "start_time": "2023-08-22T13:33:09.712493Z"
    }
   }
  },
  {
   "cell_type": "code",
   "execution_count": 4,
   "outputs": [
    {
     "name": "stdout",
     "output_type": "stream",
     "text": [
      "model initing...\n",
      "model init\n",
      "model__created <keras.engine.functional.Functional object at 0x362d3f5b0>\n",
      "model initing...\n"
     ]
    },
    {
     "name": "stderr",
     "output_type": "stream",
     "text": [
      "/Users/stepan_d/anaconda3/lib/python3.10/site-packages/keras/optimizers/legacy/adam.py:117: UserWarning: The `lr` argument is deprecated, use `learning_rate` instead.\n",
      "  super().__init__(name, **kwargs)\n",
      "2023/09/11 12:27:24 INFO mlflow.tracking.fluent: Autologging successfully enabled for sklearn.\n",
      "2023/09/11 12:27:24 INFO mlflow.tracking.fluent: Autologging successfully enabled for tensorflow.\n",
      "2023/09/11 12:27:24 INFO mlflow.utils.autologging_utils: Created MLflow autologging run with ID 'e38a1f6f878a4a56aa9d8ac88e918157', which will track hyperparameters, performance metrics, model artifacts, and lineage information for the current tensorflow workflow\n",
      "2023/09/11 12:27:24 WARNING mlflow.tensorflow: Unrecognized dataset type <class 'list'>. Dataset logging skipped.\n",
      "2023/09/11 12:27:24 WARNING mlflow.tensorflow: Failed to log training dataset information to MLflow Tracking. Reason: 'list' object has no attribute 'flatten'\n"
     ]
    },
    {
     "name": "stdout",
     "output_type": "stream",
     "text": [
      "model init\n",
      "2646/2646 [==============================] - 306s 115ms/step - loss: 0.1032 - mse: 0.0344 - mae: 0.0574 - val_loss: 0.0381 - val_mse: 0.0265 - val_mae: 0.0356\n"
     ]
    },
    {
     "name": "stderr",
     "output_type": "stream",
     "text": [
      "2023/09/11 12:32:29 WARNING mlflow.tensorflow: Failed to infer model signature: could not sample data to infer model signature: tuple index out of range\n",
      "2023/09/11 12:32:29 WARNING mlflow.tensorflow: You are saving a TensorFlow Core model or Keras model without a signature. Inference with mlflow.pyfunc.spark_udf() will not work unless the model's pyfunc representation accepts pandas DataFrames as inference inputs.\n"
     ]
    },
    {
     "name": "stdout",
     "output_type": "stream",
     "text": [
      "INFO:tensorflow:Assets written to: /var/folders/47/3r75qrcx7h97ck6ywj_y7kxm0000gn/T/tmp73_t9jc9/model/data/model/assets\n",
      "runtime/datasets/_2023-09-11 12:16:42.466162.csv\n"
     ]
    }
   ],
   "source": [
    "import sys\n",
    "import datetime\n",
    "from recommend_system.main import get_last_model, get_last_set\n",
    "\n",
    "K = 10  # latent dimensionality\n",
    "reg = 0.0001  # regularization penalty\n",
    "train = 0.95\n",
    "epochs = 1\n",
    "model = None\n",
    "model = REC_TF_MF_deep(df=pd.read_csv('runtime/datasets/retrain_mid_set_2023-09-08 13:22:21.773334.csv'))\n",
    "\n",
    "model.train_model(train,K,reg,epochs=epochs)\n",
    "#model.load_model(get_last_model('last_mid_time'))\n",
    "print(get_last_set(''))\n",
    "file_path = f'runtime/models/last_mid_time_{datetime.datetime.now()}.h5'\n",
    "#df = pd.read_csv(get_last_set('retrain_mid_set' ))\n",
    "#model.concept_update(df, train, K, reg, epochs)\n",
    "#print('WORKER_MID_TRAINER: save to ', file_path)\n",
    "model.save_model(file_path)\n",
    "#print(f'Done {datetime.datetime.now()},,,SIZE {sys.getsizeof(model.model)}')"
   ],
   "metadata": {
    "collapsed": false,
    "ExecuteTime": {
     "end_time": "2023-09-11T09:32:38.287914Z",
     "start_time": "2023-09-11T09:27:23.810191Z"
    }
   }
  },
  {
   "cell_type": "code",
   "execution_count": 3,
   "outputs": [
    {
     "data": {
      "text/plain": "(78750, 5)"
     },
     "execution_count": 3,
     "metadata": {},
     "output_type": "execute_result"
    }
   ],
   "source": [
    "df = pd.read_csv('dataset/rating_count_dataset_US.csv')\n",
    "df.shape"
   ],
   "metadata": {
    "collapsed": false,
    "ExecuteTime": {
     "end_time": "2023-08-22T13:33:10.393403Z",
     "start_time": "2023-08-22T13:33:10.365072Z"
    }
   }
  },
  {
   "cell_type": "code",
   "execution_count": 4,
   "outputs": [
    {
     "name": "stdout",
     "output_type": "stream",
     "text": [
      "model_created\n"
     ]
    }
   ],
   "source": [
    "model = REC_TF_MF_deep(df)"
   ],
   "metadata": {
    "collapsed": false,
    "ExecuteTime": {
     "end_time": "2023-08-22T13:33:13.282431Z",
     "start_time": "2023-08-22T13:33:13.277986Z"
    }
   }
  },
  {
   "cell_type": "code",
   "execution_count": 5,
   "outputs": [
    {
     "name": "stderr",
     "output_type": "stream",
     "text": [
      "2023/08/22 16:33:14 INFO mlflow.tracking.fluent: Autologging successfully enabled for sklearn.\n",
      "2023/08/22 16:33:14 INFO mlflow.tracking.fluent: Autologging successfully enabled for tensorflow.\n",
      "/Users/stepan_d/anaconda3/lib/python3.10/site-packages/keras/optimizers/legacy/adam.py:117: UserWarning: The `lr` argument is deprecated, use `learning_rate` instead.\n",
      "  super().__init__(name, **kwargs)\n"
     ]
    },
    {
     "name": "stdout",
     "output_type": "stream",
     "text": [
      "model initing...\n"
     ]
    },
    {
     "name": "stderr",
     "output_type": "stream",
     "text": [
      "2023/08/22 16:33:14 INFO mlflow.tracking.fluent: Autologging successfully enabled for sklearn.\n",
      "2023/08/22 16:33:14 INFO mlflow.tracking.fluent: Autologging successfully enabled for tensorflow.\n",
      "2023/08/22 16:33:14 INFO mlflow.utils.autologging_utils: Created MLflow autologging run with ID '55c82747607a4ad4ae4d3f0c92070e7d', which will track hyperparameters, performance metrics, model artifacts, and lineage information for the current tensorflow workflow\n",
      "2023/08/22 16:33:14 WARNING mlflow.tensorflow: Unrecognized dataset type <class 'list'>. Dataset logging skipped.\n",
      "2023/08/22 16:33:14 WARNING mlflow.tensorflow: Failed to log training dataset information to MLflow Tracking. Reason: 'list' object has no attribute 'flatten'\n"
     ]
    },
    {
     "name": "stdout",
     "output_type": "stream",
     "text": [
      "model init\n",
      "Epoch 1/5\n"
     ]
    },
    {
     "name": "stderr",
     "output_type": "stream",
     "text": [
      "2023-08-22 16:33:14.674102: W tensorflow/tsl/platform/profile_utils/cpu_utils.cc:128] Failed to get CPU frequency: 0 Hz\n"
     ]
    },
    {
     "name": "stdout",
     "output_type": "stream",
     "text": [
      "493/493 [==============================] - 74s 148ms/step - loss: 0.4211 - mse: 0.0820 - mae: 0.1695 - val_loss: 0.0338 - val_mse: 0.0084 - val_mae: 0.0299\n",
      "Epoch 2/5\n",
      "493/493 [==============================] - 69s 140ms/step - loss: 0.0411 - mse: 0.0085 - mae: 0.0374 - val_loss: 0.0289 - val_mse: 0.0085 - val_mae: 0.0254\n",
      "Epoch 3/5\n",
      "493/493 [==============================] - 69s 139ms/step - loss: 0.0312 - mse: 0.0077 - mae: 0.0279 - val_loss: 0.0313 - val_mse: 0.0086 - val_mae: 0.0283\n",
      "Epoch 4/5\n",
      "493/493 [==============================] - 69s 140ms/step - loss: 0.0285 - mse: 0.0076 - mae: 0.0258 - val_loss: 0.0273 - val_mse: 0.0084 - val_mae: 0.0249\n",
      "Epoch 5/5\n",
      "493/493 [==============================] - 69s 140ms/step - loss: 0.0271 - mse: 0.0075 - mae: 0.0249 - val_loss: 0.0260 - val_mse: 0.0082 - val_mae: 0.0239\n"
     ]
    },
    {
     "name": "stderr",
     "output_type": "stream",
     "text": [
      "2023/08/22 16:39:04 WARNING mlflow.tensorflow: Failed to infer model signature: could not sample data to infer model signature: tuple index out of range\n",
      "2023/08/22 16:39:04 WARNING mlflow.tensorflow: You are saving a TensorFlow Core model or Keras model without a signature. Inference with mlflow.pyfunc.spark_udf() will not work unless the model's pyfunc representation accepts pandas DataFrames as inference inputs.\n"
     ]
    },
    {
     "name": "stdout",
     "output_type": "stream",
     "text": [
      "INFO:tensorflow:Assets written to: /var/folders/47/3r75qrcx7h97ck6ywj_y7kxm0000gn/T/tmp_7ujwgr6/model/data/model/assets\n"
     ]
    },
    {
     "name": "stderr",
     "output_type": "stream",
     "text": [
      "2023/08/22 16:39:12 WARNING mlflow.utils.autologging_utils: MLflow autologging encountered a warning: \"/Users/stepan_d/anaconda3/lib/python3.10/site-packages/_distutils_hack/__init__.py:33: UserWarning: Setuptools is replacing distutils.\"\n"
     ]
    }
   ],
   "source": [
    "train = 0.8\n",
    "K = 11\n",
    "reg = 0.0001\n",
    "epochs=5\n",
    "\n",
    "model.train_model(train,K,reg,epochs)"
   ],
   "metadata": {
    "collapsed": false,
    "ExecuteTime": {
     "end_time": "2023-08-22T13:39:13.638414Z",
     "start_time": "2023-08-22T13:33:13.895396Z"
    }
   }
  },
  {
   "cell_type": "code",
   "execution_count": 7,
   "outputs": [
    {
     "name": "stdout",
     "output_type": "stream",
     "text": [
      "model initing...\n"
     ]
    },
    {
     "name": "stderr",
     "output_type": "stream",
     "text": [
      "/Users/stepan_d/anaconda3/lib/python3.10/site-packages/keras/optimizers/legacy/adam.py:117: UserWarning: The `lr` argument is deprecated, use `learning_rate` instead.\n",
      "  super().__init__(name, **kwargs)\n",
      "2023/08/22 16:45:25 INFO mlflow.tracking.fluent: Autologging successfully enabled for sklearn.\n",
      "2023/08/22 16:45:25 INFO mlflow.tracking.fluent: Autologging successfully enabled for tensorflow.\n",
      "2023/08/22 16:45:25 INFO mlflow.utils.autologging_utils: Created MLflow autologging run with ID 'af06e9e519c2411e801a74b01030cb22', which will track hyperparameters, performance metrics, model artifacts, and lineage information for the current tensorflow workflow\n",
      "2023/08/22 16:45:25 WARNING mlflow.tensorflow: Unrecognized dataset type <class 'list'>. Dataset logging skipped.\n",
      "2023/08/22 16:45:25 WARNING mlflow.tensorflow: Failed to log training dataset information to MLflow Tracking. Reason: 'list' object has no attribute 'flatten'\n"
     ]
    },
    {
     "name": "stdout",
     "output_type": "stream",
     "text": [
      "model init\n",
      "Epoch 1/5\n",
      "493/493 [==============================] - 132s 263ms/step - loss: 0.4224 - mse: 0.0911 - mae: 0.1890 - val_loss: 0.0353 - val_mse: 0.0088 - val_mae: 0.0340\n",
      "Epoch 2/5\n",
      "493/493 [==============================] - 121s 245ms/step - loss: 0.0463 - mse: 0.0093 - mae: 0.0450 - val_loss: 0.0342 - val_mse: 0.0094 - val_mae: 0.0330\n",
      "Epoch 3/5\n",
      "493/493 [==============================] - 121s 246ms/step - loss: 0.0287 - mse: 0.0077 - mae: 0.0276 - val_loss: 0.0272 - val_mse: 0.0088 - val_mae: 0.0263\n",
      "Epoch 4/5\n",
      "493/493 [==============================] - 121s 245ms/step - loss: 0.0262 - mse: 0.0076 - mae: 0.0253 - val_loss: 0.0257 - val_mse: 0.0089 - val_mae: 0.0249\n",
      "Epoch 5/5\n",
      "493/493 [==============================] - 127s 257ms/step - loss: 0.0255 - mse: 0.0075 - mae: 0.0249 - val_loss: 0.0265 - val_mse: 0.0089 - val_mae: 0.0259\n"
     ]
    },
    {
     "name": "stderr",
     "output_type": "stream",
     "text": [
      "2023/08/22 16:55:46 WARNING mlflow.tensorflow: Failed to infer model signature: could not sample data to infer model signature: tuple index out of range\n",
      "2023/08/22 16:55:46 WARNING mlflow.tensorflow: You are saving a TensorFlow Core model or Keras model without a signature. Inference with mlflow.pyfunc.spark_udf() will not work unless the model's pyfunc representation accepts pandas DataFrames as inference inputs.\n"
     ]
    },
    {
     "name": "stdout",
     "output_type": "stream",
     "text": [
      "INFO:tensorflow:Assets written to: /var/folders/47/3r75qrcx7h97ck6ywj_y7kxm0000gn/T/tmpr9df4t4y/model/data/model/assets\n"
     ]
    }
   ],
   "source": [
    "train = 0.8\n",
    "K = 20\n",
    "reg = 0.0001\n",
    "epochs=5\n",
    "model.train_model(train,K,reg,epochs)"
   ],
   "metadata": {
    "collapsed": false,
    "ExecuteTime": {
     "end_time": "2023-08-22T13:55:59.191502Z",
     "start_time": "2023-08-22T13:45:24.915804Z"
    }
   }
  },
  {
   "cell_type": "code",
   "execution_count": 8,
   "outputs": [
    {
     "name": "stdout",
     "output_type": "stream",
     "text": [
      "model initing...\n"
     ]
    },
    {
     "name": "stderr",
     "output_type": "stream",
     "text": [
      "/Users/stepan_d/anaconda3/lib/python3.10/site-packages/keras/optimizers/legacy/adam.py:117: UserWarning: The `lr` argument is deprecated, use `learning_rate` instead.\n",
      "  super().__init__(name, **kwargs)\n",
      "2023/08/22 16:55:59 INFO mlflow.tracking.fluent: Autologging successfully enabled for sklearn.\n",
      "2023/08/22 16:55:59 INFO mlflow.tracking.fluent: Autologging successfully enabled for tensorflow.\n",
      "2023/08/22 16:55:59 INFO mlflow.utils.autologging_utils: Created MLflow autologging run with ID 'b5b20678a2bf4a729e55432553b4c4f1', which will track hyperparameters, performance metrics, model artifacts, and lineage information for the current tensorflow workflow\n",
      "2023/08/22 16:55:59 WARNING mlflow.tensorflow: Unrecognized dataset type <class 'list'>. Dataset logging skipped.\n",
      "2023/08/22 16:55:59 WARNING mlflow.tensorflow: Failed to log training dataset information to MLflow Tracking. Reason: 'list' object has no attribute 'flatten'\n"
     ]
    },
    {
     "name": "stdout",
     "output_type": "stream",
     "text": [
      "model init\n",
      "Epoch 1/5\n"
     ]
    },
    {
     "name": "stderr",
     "output_type": "stream",
     "text": [
      "/Users/stepan_d/anaconda3/lib/python3.10/site-packages/tensorflow/python/framework/indexed_slices.py:459: UserWarning: Converting sparse IndexedSlices to a dense Tensor with 122488920 elements. This may consume a large amount of memory.\n",
      "  warnings.warn(\n",
      "/Users/stepan_d/anaconda3/lib/python3.10/site-packages/tensorflow/python/framework/indexed_slices.py:459: UserWarning: Converting sparse IndexedSlices to a dense Tensor with 122520840 elements. This may consume a large amount of memory.\n",
      "  warnings.warn(\n"
     ]
    },
    {
     "name": "stdout",
     "output_type": "stream",
     "text": [
      "493/493 [==============================] - 187s 374ms/step - loss: 0.5124 - mse: 0.0724 - mae: 0.1625 - val_loss: 0.0343 - val_mse: 0.0087 - val_mae: 0.0325\n",
      "Epoch 2/5\n",
      "493/493 [==============================] - 184s 373ms/step - loss: 0.0372 - mse: 0.0082 - mae: 0.0354 - val_loss: 0.0270 - val_mse: 0.0088 - val_mae: 0.0254\n",
      "Epoch 3/5\n",
      "493/493 [==============================] - 181s 367ms/step - loss: 0.0271 - mse: 0.0076 - mae: 0.0257 - val_loss: 0.0269 - val_mse: 0.0088 - val_mae: 0.0257\n",
      "Epoch 4/5\n",
      "493/493 [==============================] - 180s 365ms/step - loss: 0.0254 - mse: 0.0075 - mae: 0.0244 - val_loss: 0.0252 - val_mse: 0.0089 - val_mae: 0.0243\n",
      "Epoch 5/5\n",
      "493/493 [==============================] - 179s 363ms/step - loss: 0.0247 - mse: 0.0075 - mae: 0.0240 - val_loss: 0.0245 - val_mse: 0.0088 - val_mae: 0.0239\n"
     ]
    },
    {
     "name": "stderr",
     "output_type": "stream",
     "text": [
      "2023/08/22 17:11:11 WARNING mlflow.tensorflow: Failed to infer model signature: could not sample data to infer model signature: tuple index out of range\n",
      "2023/08/22 17:11:11 WARNING mlflow.tensorflow: You are saving a TensorFlow Core model or Keras model without a signature. Inference with mlflow.pyfunc.spark_udf() will not work unless the model's pyfunc representation accepts pandas DataFrames as inference inputs.\n"
     ]
    },
    {
     "name": "stdout",
     "output_type": "stream",
     "text": [
      "INFO:tensorflow:Assets written to: /var/folders/47/3r75qrcx7h97ck6ywj_y7kxm0000gn/T/tmp5cgmvzxt/model/data/model/assets\n"
     ]
    }
   ],
   "source": [
    "train = 0.8\n",
    "K = 30\n",
    "reg = 0.0001\n",
    "epochs=5\n",
    "model.train_model(train,K,reg,epochs)"
   ],
   "metadata": {
    "collapsed": false,
    "ExecuteTime": {
     "end_time": "2023-08-22T14:11:27.444772Z",
     "start_time": "2023-08-22T13:55:59.192513Z"
    }
   }
  },
  {
   "cell_type": "code",
   "execution_count": 9,
   "outputs": [
    {
     "name": "stdout",
     "output_type": "stream",
     "text": [
      "model initing...\n"
     ]
    },
    {
     "name": "stderr",
     "output_type": "stream",
     "text": [
      "/Users/stepan_d/anaconda3/lib/python3.10/site-packages/keras/optimizers/legacy/adam.py:117: UserWarning: The `lr` argument is deprecated, use `learning_rate` instead.\n",
      "  super().__init__(name, **kwargs)\n",
      "2023/08/22 17:11:27 INFO mlflow.tracking.fluent: Autologging successfully enabled for sklearn.\n",
      "2023/08/22 17:11:27 INFO mlflow.tracking.fluent: Autologging successfully enabled for tensorflow.\n",
      "2023/08/22 17:11:27 INFO mlflow.utils.autologging_utils: Created MLflow autologging run with ID '95cd8ce2462b4a9ea8c5b130790b1525', which will track hyperparameters, performance metrics, model artifacts, and lineage information for the current tensorflow workflow\n",
      "2023/08/22 17:11:27 WARNING mlflow.tensorflow: Unrecognized dataset type <class 'list'>. Dataset logging skipped.\n",
      "2023/08/22 17:11:27 WARNING mlflow.tensorflow: Failed to log training dataset information to MLflow Tracking. Reason: 'list' object has no attribute 'flatten'\n"
     ]
    },
    {
     "name": "stdout",
     "output_type": "stream",
     "text": [
      "model init\n",
      "Epoch 1/5\n"
     ]
    },
    {
     "name": "stderr",
     "output_type": "stream",
     "text": [
      "/Users/stepan_d/anaconda3/lib/python3.10/site-packages/tensorflow/python/framework/indexed_slices.py:459: UserWarning: Converting sparse IndexedSlices to a dense Tensor with 163318560 elements. This may consume a large amount of memory.\n",
      "  warnings.warn(\n",
      "/Users/stepan_d/anaconda3/lib/python3.10/site-packages/tensorflow/python/framework/indexed_slices.py:459: UserWarning: Converting sparse IndexedSlices to a dense Tensor with 163361120 elements. This may consume a large amount of memory.\n",
      "  warnings.warn(\n"
     ]
    },
    {
     "name": "stdout",
     "output_type": "stream",
     "text": [
      "493/493 [==============================] - 231s 461ms/step - loss: 0.3747 - mse: 0.0568 - mae: 0.1410 - val_loss: 0.0316 - val_mse: 0.0074 - val_mae: 0.0298\n",
      "Epoch 2/5\n",
      "493/493 [==============================] - 236s 478ms/step - loss: 0.0332 - mse: 0.0082 - mae: 0.0315 - val_loss: 0.0258 - val_mse: 0.0075 - val_mae: 0.0243\n",
      "Epoch 3/5\n",
      "493/493 [==============================] - 224s 453ms/step - loss: 0.0267 - mse: 0.0079 - mae: 0.0255 - val_loss: 0.0258 - val_mse: 0.0075 - val_mae: 0.0247\n",
      "Epoch 4/5\n",
      "493/493 [==============================] - 228s 463ms/step - loss: 0.0258 - mse: 0.0079 - mae: 0.0248 - val_loss: 0.0246 - val_mse: 0.0076 - val_mae: 0.0237\n",
      "Epoch 5/5\n",
      "493/493 [==============================] - 238s 481ms/step - loss: 0.0253 - mse: 0.0079 - mae: 0.0245 - val_loss: 0.0249 - val_mse: 0.0075 - val_mae: 0.0242\n"
     ]
    },
    {
     "name": "stderr",
     "output_type": "stream",
     "text": [
      "2023/08/22 17:30:44 WARNING mlflow.tensorflow: Failed to infer model signature: could not sample data to infer model signature: tuple index out of range\n",
      "2023/08/22 17:30:44 WARNING mlflow.tensorflow: You are saving a TensorFlow Core model or Keras model without a signature. Inference with mlflow.pyfunc.spark_udf() will not work unless the model's pyfunc representation accepts pandas DataFrames as inference inputs.\n"
     ]
    },
    {
     "name": "stdout",
     "output_type": "stream",
     "text": [
      "INFO:tensorflow:Assets written to: /var/folders/47/3r75qrcx7h97ck6ywj_y7kxm0000gn/T/tmpng4mz0xy/model/data/model/assets\n"
     ]
    }
   ],
   "source": [
    "train = 0.8\n",
    "K = 40\n",
    "reg = 0.0001\n",
    "epochs=5\n",
    "model.train_model(train,K,reg,epochs)"
   ],
   "metadata": {
    "collapsed": false,
    "ExecuteTime": {
     "end_time": "2023-08-22T14:31:06.002965Z",
     "start_time": "2023-08-22T14:11:27.762641Z"
    }
   }
  },
  {
   "cell_type": "markdown",
   "source": [
    "train parameter"
   ],
   "metadata": {
    "collapsed": false
   }
  },
  {
   "cell_type": "code",
   "execution_count": 10,
   "outputs": [
    {
     "name": "stdout",
     "output_type": "stream",
     "text": [
      "model initing...\n",
      "model init\n"
     ]
    },
    {
     "name": "stderr",
     "output_type": "stream",
     "text": [
      "/Users/stepan_d/anaconda3/lib/python3.10/site-packages/keras/optimizers/legacy/adam.py:117: UserWarning: The `lr` argument is deprecated, use `learning_rate` instead.\n",
      "  super().__init__(name, **kwargs)\n",
      "2023/08/22 17:31:06 INFO mlflow.tracking.fluent: Autologging successfully enabled for sklearn.\n",
      "2023/08/22 17:31:06 INFO mlflow.tracking.fluent: Autologging successfully enabled for tensorflow.\n",
      "2023/08/22 17:31:06 INFO mlflow.utils.autologging_utils: Created MLflow autologging run with ID 'f854b40d1bee4ca899e90526f360ddb3', which will track hyperparameters, performance metrics, model artifacts, and lineage information for the current tensorflow workflow\n",
      "2023/08/22 17:31:06 WARNING mlflow.tensorflow: Unrecognized dataset type <class 'list'>. Dataset logging skipped.\n",
      "2023/08/22 17:31:06 WARNING mlflow.tensorflow: Failed to log training dataset information to MLflow Tracking. Reason: 'list' object has no attribute 'flatten'\n"
     ]
    },
    {
     "name": "stdout",
     "output_type": "stream",
     "text": [
      "Epoch 1/5\n",
      "370/370 [==============================] - 63s 164ms/step - loss: 0.5007 - mse: 0.0709 - mae: 0.1664 - val_loss: 0.0428 - val_mse: 0.0071 - val_mae: 0.0395\n",
      "Epoch 2/5\n",
      "370/370 [==============================] - 64s 172ms/step - loss: 0.0455 - mse: 0.0097 - mae: 0.0420 - val_loss: 0.0282 - val_mse: 0.0069 - val_mae: 0.0247\n",
      "Epoch 3/5\n",
      "370/370 [==============================] - 58s 158ms/step - loss: 0.0314 - mse: 0.0085 - mae: 0.0280 - val_loss: 0.0267 - val_mse: 0.0070 - val_mae: 0.0234\n",
      "Epoch 4/5\n",
      "370/370 [==============================] - 58s 158ms/step - loss: 0.0289 - mse: 0.0084 - mae: 0.0258 - val_loss: 0.0262 - val_mse: 0.0071 - val_mae: 0.0233\n",
      "Epoch 5/5\n",
      "370/370 [==============================] - 58s 156ms/step - loss: 0.0280 - mse: 0.0084 - mae: 0.0252 - val_loss: 0.0257 - val_mse: 0.0069 - val_mae: 0.0231\n"
     ]
    },
    {
     "name": "stderr",
     "output_type": "stream",
     "text": [
      "2023/08/22 17:36:07 WARNING mlflow.tensorflow: Failed to infer model signature: could not sample data to infer model signature: tuple index out of range\n",
      "2023/08/22 17:36:07 WARNING mlflow.tensorflow: You are saving a TensorFlow Core model or Keras model without a signature. Inference with mlflow.pyfunc.spark_udf() will not work unless the model's pyfunc representation accepts pandas DataFrames as inference inputs.\n"
     ]
    },
    {
     "name": "stdout",
     "output_type": "stream",
     "text": [
      "INFO:tensorflow:Assets written to: /var/folders/47/3r75qrcx7h97ck6ywj_y7kxm0000gn/T/tmpun1i_91n/model/data/model/assets\n"
     ]
    }
   ],
   "source": [
    "train = 0.6\n",
    "K = 11\n",
    "reg = 0.0001\n",
    "epochs=5\n",
    "model.train_model(train,K,reg,epochs)"
   ],
   "metadata": {
    "collapsed": false,
    "ExecuteTime": {
     "end_time": "2023-08-22T14:36:15.149021Z",
     "start_time": "2023-08-22T14:31:06.029151Z"
    }
   }
  },
  {
   "cell_type": "code",
   "execution_count": 11,
   "outputs": [
    {
     "name": "stderr",
     "output_type": "stream",
     "text": [
      "/Users/stepan_d/anaconda3/lib/python3.10/site-packages/keras/optimizers/legacy/adam.py:117: UserWarning: The `lr` argument is deprecated, use `learning_rate` instead.\n",
      "  super().__init__(name, **kwargs)\n",
      "2023/08/22 17:36:15 INFO mlflow.tracking.fluent: Autologging successfully enabled for sklearn.\n",
      "2023/08/22 17:36:15 INFO mlflow.tracking.fluent: Autologging successfully enabled for tensorflow.\n",
      "2023/08/22 17:36:15 INFO mlflow.utils.autologging_utils: Created MLflow autologging run with ID '694b9223962b473aa3844e473fa56f3e', which will track hyperparameters, performance metrics, model artifacts, and lineage information for the current tensorflow workflow\n",
      "2023/08/22 17:36:15 WARNING mlflow.tensorflow: Unrecognized dataset type <class 'list'>. Dataset logging skipped.\n",
      "2023/08/22 17:36:15 WARNING mlflow.tensorflow: Failed to log training dataset information to MLflow Tracking. Reason: 'list' object has no attribute 'flatten'\n"
     ]
    },
    {
     "name": "stdout",
     "output_type": "stream",
     "text": [
      "model initing...\n",
      "model init\n",
      "Epoch 1/5\n",
      "431/431 [==============================] - 66s 148ms/step - loss: 0.4229 - mse: 0.0531 - mae: 0.1358 - val_loss: 0.0324 - val_mse: 0.0066 - val_mae: 0.0289\n",
      "Epoch 2/5\n",
      "431/431 [==============================] - 63s 146ms/step - loss: 0.0345 - mse: 0.0085 - mae: 0.0311 - val_loss: 0.0265 - val_mse: 0.0067 - val_mae: 0.0232\n",
      "Epoch 3/5\n",
      "431/431 [==============================] - 62s 144ms/step - loss: 0.0290 - mse: 0.0083 - mae: 0.0260 - val_loss: 0.0261 - val_mse: 0.0067 - val_mae: 0.0233\n",
      "Epoch 4/5\n",
      "431/431 [==============================] - 61s 142ms/step - loss: 0.0279 - mse: 0.0083 - mae: 0.0253 - val_loss: 0.0257 - val_mse: 0.0067 - val_mae: 0.0233\n",
      "Epoch 5/5\n",
      "431/431 [==============================] - 58s 135ms/step - loss: 0.0272 - mse: 0.0082 - mae: 0.0250 - val_loss: 0.0253 - val_mse: 0.0067 - val_mae: 0.0233\n"
     ]
    },
    {
     "name": "stderr",
     "output_type": "stream",
     "text": [
      "2023/08/22 17:41:25 WARNING mlflow.tensorflow: Failed to infer model signature: could not sample data to infer model signature: tuple index out of range\n",
      "2023/08/22 17:41:25 WARNING mlflow.tensorflow: You are saving a TensorFlow Core model or Keras model without a signature. Inference with mlflow.pyfunc.spark_udf() will not work unless the model's pyfunc representation accepts pandas DataFrames as inference inputs.\n"
     ]
    },
    {
     "name": "stdout",
     "output_type": "stream",
     "text": [
      "INFO:tensorflow:Assets written to: /var/folders/47/3r75qrcx7h97ck6ywj_y7kxm0000gn/T/tmpa88xwe1b/model/data/model/assets\n"
     ]
    }
   ],
   "source": [
    "train = 0.7\n",
    "K = 11\n",
    "reg = 0.0001\n",
    "epochs=5\n",
    "model.train_model(train,K,reg,epochs)"
   ],
   "metadata": {
    "collapsed": false,
    "ExecuteTime": {
     "end_time": "2023-08-22T14:41:32.232546Z",
     "start_time": "2023-08-22T14:36:15.146441Z"
    }
   }
  },
  {
   "cell_type": "code",
   "execution_count": 12,
   "outputs": [
    {
     "name": "stderr",
     "output_type": "stream",
     "text": [
      "/Users/stepan_d/anaconda3/lib/python3.10/site-packages/keras/optimizers/legacy/adam.py:117: UserWarning: The `lr` argument is deprecated, use `learning_rate` instead.\n",
      "  super().__init__(name, **kwargs)\n",
      "2023/08/22 17:41:32 INFO mlflow.tracking.fluent: Autologging successfully enabled for sklearn.\n",
      "2023/08/22 17:41:32 INFO mlflow.tracking.fluent: Autologging successfully enabled for tensorflow.\n",
      "2023/08/22 17:41:32 INFO mlflow.utils.autologging_utils: Created MLflow autologging run with ID '1c8c7a81d0fc42b5be27e3e81e4273f1', which will track hyperparameters, performance metrics, model artifacts, and lineage information for the current tensorflow workflow\n",
      "2023/08/22 17:41:32 WARNING mlflow.tensorflow: Unrecognized dataset type <class 'list'>. Dataset logging skipped.\n",
      "2023/08/22 17:41:32 WARNING mlflow.tensorflow: Failed to log training dataset information to MLflow Tracking. Reason: 'list' object has no attribute 'flatten'\n"
     ]
    },
    {
     "name": "stdout",
     "output_type": "stream",
     "text": [
      "model initing...\n",
      "model init\n",
      "Epoch 1/5\n",
      "493/493 [==============================] - 70s 139ms/step - loss: 0.3748 - mse: 0.0452 - mae: 0.1232 - val_loss: 0.0300 - val_mse: 0.0071 - val_mae: 0.0263\n",
      "Epoch 2/5\n",
      "493/493 [==============================] - 68s 138ms/step - loss: 0.0349 - mse: 0.0083 - mae: 0.0314 - val_loss: 0.0282 - val_mse: 0.0071 - val_mae: 0.0249\n",
      "Epoch 3/5\n",
      "493/493 [==============================] - 67s 137ms/step - loss: 0.0289 - mse: 0.0080 - mae: 0.0258 - val_loss: 0.0263 - val_mse: 0.0072 - val_mae: 0.0236\n",
      "Epoch 4/5\n",
      "493/493 [==============================] - 67s 137ms/step - loss: 0.0273 - mse: 0.0079 - mae: 0.0248 - val_loss: 0.0252 - val_mse: 0.0072 - val_mae: 0.0230\n",
      "Epoch 5/5\n",
      "493/493 [==============================] - 68s 138ms/step - loss: 0.0262 - mse: 0.0079 - mae: 0.0242 - val_loss: 0.0242 - val_mse: 0.0071 - val_mae: 0.0224\n"
     ]
    },
    {
     "name": "stderr",
     "output_type": "stream",
     "text": [
      "2023/08/22 17:47:12 WARNING mlflow.tensorflow: Failed to infer model signature: could not sample data to infer model signature: tuple index out of range\n",
      "2023/08/22 17:47:12 WARNING mlflow.tensorflow: You are saving a TensorFlow Core model or Keras model without a signature. Inference with mlflow.pyfunc.spark_udf() will not work unless the model's pyfunc representation accepts pandas DataFrames as inference inputs.\n"
     ]
    },
    {
     "name": "stdout",
     "output_type": "stream",
     "text": [
      "INFO:tensorflow:Assets written to: /var/folders/47/3r75qrcx7h97ck6ywj_y7kxm0000gn/T/tmpr43q9m2g/model/data/model/assets\n"
     ]
    }
   ],
   "source": [
    "train = 0.8\n",
    "K = 11\n",
    "reg = 0.0001\n",
    "epochs=5\n",
    "model.train_model(train,K,reg,epochs)"
   ],
   "metadata": {
    "collapsed": false,
    "ExecuteTime": {
     "end_time": "2023-08-22T14:47:19.765513Z",
     "start_time": "2023-08-22T14:41:32.232237Z"
    }
   }
  },
  {
   "cell_type": "code",
   "execution_count": null,
   "outputs": [],
   "source": [
    "train = 0.9\n",
    "K = 11\n",
    "reg = 0.0001\n",
    "epochs=5\n",
    "model.train_model(train,K,reg,epochs)"
   ],
   "metadata": {
    "collapsed": false
   }
  }
 ],
 "metadata": {
  "kernelspec": {
   "display_name": "Python 3",
   "language": "python",
   "name": "python3"
  },
  "language_info": {
   "codemirror_mode": {
    "name": "ipython",
    "version": 2
   },
   "file_extension": ".py",
   "mimetype": "text/x-python",
   "name": "python",
   "nbconvert_exporter": "python",
   "pygments_lexer": "ipython2",
   "version": "2.7.6"
  }
 },
 "nbformat": 4,
 "nbformat_minor": 0
}
